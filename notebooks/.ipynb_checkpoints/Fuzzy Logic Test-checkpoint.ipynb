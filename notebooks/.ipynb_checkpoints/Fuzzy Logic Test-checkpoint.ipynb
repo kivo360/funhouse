{
 "cells": [
  {
   "cell_type": "code",
   "execution_count": 4,
   "metadata": {},
   "outputs": [],
   "source": [
    "import numpy as np\n",
    "import skfuzzy as fuzz\n",
    "import matplotlib.pyplot as plt"
   ]
  },
  {
   "cell_type": "code",
   "execution_count": 5,
   "metadata": {},
   "outputs": [],
   "source": [
    "x_qual = np.arange(0, 11, 1)\n",
    "x_serv = np.arange(0, 11, 1)\n",
    "x_tip = np.arange(0, 26, 1)"
   ]
  },
  {
   "cell_type": "code",
   "execution_count": 7,
   "metadata": {},
   "outputs": [],
   "source": [
    "# Low quality\n",
    "qual_lo = fuzz.trimf(x_qual, [0, 0, 5])\n",
    "# Medium Quality\n",
    "qual_md = fuzz.trimf(x_qual, [0, 5, 10])\n",
    "# High Quality\n",
    "qual_hi = fuzz.trimf(x_qual, [5, 10, 10])\n",
    "\n",
    "# Low Service Quality\n",
    "serv_lo = fuzz.trimf(x_serv, [0, 0, 5])\n",
    "# Medium Service Quality\n",
    "serv_md = fuzz.trimf(x_serv, [0, 5, 10])\n",
    "# High Service Quality\n",
    "serv_hi = fuzz.trimf(x_serv, [5, 10, 10])"
   ]
  },
  {
   "cell_type": "code",
   "execution_count": 8,
   "metadata": {},
   "outputs": [
    {
     "data": {
      "text/plain": [
       "array([1. , 0.8, 0.6, 0.4, 0.2, 0. , 0. , 0. , 0. , 0. , 0. ])"
      ]
     },
     "execution_count": 8,
     "metadata": {},
     "output_type": "execute_result"
    }
   ],
   "source": [
    "qual_lo"
   ]
  },
  {
   "cell_type": "code",
   "execution_count": null,
   "metadata": {},
   "outputs": [],
   "source": []
  }
 ],
 "metadata": {
  "kernelspec": {
   "display_name": "Python 3",
   "language": "python",
   "name": "python3"
  },
  "language_info": {
   "codemirror_mode": {
    "name": "ipython",
    "version": 3
   },
   "file_extension": ".py",
   "mimetype": "text/x-python",
   "name": "python",
   "nbconvert_exporter": "python",
   "pygments_lexer": "ipython3",
   "version": "3.6.5"
  }
 },
 "nbformat": 4,
 "nbformat_minor": 2
}
